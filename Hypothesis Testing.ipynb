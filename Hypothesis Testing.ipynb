{
 "cells": [
  {
   "cell_type": "code",
   "execution_count": 45,
   "metadata": {},
   "outputs": [],
   "source": [
    "import numpy as np\n",
    "import pandas as pd\n",
    "import matplotlib.pyplot as plt\n",
    "plt.rcParams['figure.figsize']= (12,12)\n",
    "import warnings\n",
    "warnings.filterwarnings('ignore')"
   ]
  },
  {
   "cell_type": "code",
   "execution_count": 46,
   "metadata": {},
   "outputs": [],
   "source": [
    "df = pd.read_csv('data/Cleaned.csv')"
   ]
  },
  {
   "cell_type": "code",
   "execution_count": 47,
   "metadata": {},
   "outputs": [
    {
     "data": {
      "text/plain": [
       "Index(['Profession', 'Country', 'Region', 'Education', 'Sex', 'Age', 'AgeBin',\n",
       "       'Maritial', '1.1_HeardCovid', '1.2_Television/Radio',\n",
       "       '1.2_Newspaper/Magazines', '1.2_SocialMedia',\n",
       "       '1.2_Colleagues/Workplace', '1.2_Neighbors', '1.3_CovidKnowledgeLevel',\n",
       "       '1.4_ContactRespiratoryDrop', '1.4_Touching', '1.4_UseSameObject',\n",
       "       '1.4_Sex', '1.4_PersonToPerson', '1.4_CloseContact', '1.4_TouchingCoin',\n",
       "       '1.4_CovidFloatOnAir', '1.5_Fever', '1.5_Tiredness', '1.5_Cough',\n",
       "       '1.5_ShortnessBreath', '1.5_AchesPain', '1.5_NasalCongestion',\n",
       "       '1.5_RunningNose', '1.5_SoreThroat', '1.5_Diarrhea', '1.6_Mask',\n",
       "       '1.7_IncubationPeriod', '1.8_Vaccine', '1.9_LockDown', '1.9_Isolation',\n",
       "       '1.9_Quarantine', '1.10_Over60Yr', '1.10_PrexistingCond',\n",
       "       '1.10_WorkEnvo', '1.10_RiskZone', '2.1_LockDown', '2.2_HomeQuarantine',\n",
       "       '2.3_Isolation', '2.4_PersonalHygiene', '2.5_MediaRole', '2.6_Over60Yr',\n",
       "       '2.6_PreExisting', '2.6_Working', '2.6_RiskZone', '3.1_Quarantine',\n",
       "       '3.1_Respository', '3.1_WashingHand', '3.1_Mask', '3.1_TouchingMouth',\n",
       "       '3.1_SocialDistance', '3.2_PPE', '3.3_Test', '3.4_Handshake', '3.4_Hug',\n",
       "       '3.4_VisitPlaces', '3.4_ContactInfected', '3.4_Religion',\n",
       "       '3.5_HandWash', '3.8_Internet', '3.9_Newspaper', '3.9_TV',\n",
       "       '3.9_SocialMedia', '3.9_Internet', '3.10_TimeSpentOnCovidNews',\n",
       "       '4.1_FearOfDeath', '4.1_Anxeity', '4.1_Depression',\n",
       "       '4.1_SocialExclusion', '4.1_Lonliness', 'Access_Of_Information',\n",
       "       'N90BestToControlSpread', 'KnowledgeScore', 'OpinionScoring',\n",
       "       'Susceptiblity', 'BehaveScore', 'PsychologicalHeath', 'LearntCovid'],\n",
       "      dtype='object')"
      ]
     },
     "execution_count": 47,
     "metadata": {},
     "output_type": "execute_result"
    }
   ],
   "source": [
    "df.columns"
   ]
  },
  {
   "cell_type": "code",
   "execution_count": 42,
   "metadata": {
    "scrolled": true
   },
   "outputs": [
    {
     "data": {
      "text/plain": [
       "1    1372\n",
       "2     631\n",
       "3     504\n",
       "4     303\n",
       "5     221\n",
       "Name: 3.10_TimeSpentOnCovidNews, dtype: int64"
      ]
     },
     "execution_count": 42,
     "metadata": {},
     "output_type": "execute_result"
    }
   ],
   "source": [
    "df['3.10_TimeSpentOnCovidNews'].value_counts()\n"
   ]
  },
  {
   "cell_type": "code",
   "execution_count": 35,
   "metadata": {},
   "outputs": [
    {
     "data": {
      "text/plain": [
       "3031"
      ]
     },
     "execution_count": 35,
     "metadata": {},
     "output_type": "execute_result"
    }
   ],
   "source": [
    "df.AgeBin.value_counts().sum()"
   ]
  },
  {
   "cell_type": "code",
   "execution_count": 41,
   "metadata": {},
   "outputs": [
    {
     "data": {
      "text/plain": [
       "(0.0, 30.0]     1820\n",
       "(30.0, 40.0]     588\n",
       "(40.0, 50.0]     312\n",
       "(50.0, 64.0]     277\n",
       "(64.0, inf]       34\n",
       "Name: AgeBin, dtype: int64"
      ]
     },
     "execution_count": 41,
     "metadata": {},
     "output_type": "execute_result"
    }
   ],
   "source": [
    "#Ref  https://www.cdc.gov/coronavirus/2019-ncov/need-extra-precautions/older-adults.html\n",
    "bins = pd.IntervalIndex.from_tuples([(0,30),(30,40),(40,50),(50,64),(64,np.inf)])\n",
    "df['AgeBin'] = pd.cut(df.Age,bins)\n",
    "df.AgeBin.value_counts()"
   ]
  },
  {
   "cell_type": "code",
   "execution_count": 20,
   "metadata": {},
   "outputs": [],
   "source": [
    "from scipy import stats\n",
    "def chi_squared_test(df,column1,column2,prob=0.95):\n",
    "#     print(df.shape)\n",
    "    contingency_table = pd.crosstab(df[column1],df[column2])\n",
    "#     print(contingency_table)\n",
    "    stat,p,dof,expected = stats.chi2_contingency(contingency_table)\n",
    "    critical = stats.chi2.ppf(prob,dof)\n",
    "    return country, stat,critical"
   ]
  },
  {
   "cell_type": "code",
   "execution_count": 44,
   "metadata": {},
   "outputs": [
    {
     "data": {
      "text/plain": [
       "['China',\n",
       " 'Mexico',\n",
       " 'Bangladesh',\n",
       " 'United States',\n",
       " 'Pakistan',\n",
       " 'Malaysia',\n",
       " 'Japan',\n",
       " 'Zambia']"
      ]
     },
     "execution_count": 44,
     "metadata": {},
     "output_type": "execute_result"
    }
   ],
   "source": [
    "countries = df.Country.value_counts().index[:8].tolist()\n",
    "countries"
   ]
  },
  {
   "cell_type": "code",
   "execution_count": 25,
   "metadata": {},
   "outputs": [],
   "source": [
    "results = []\n",
    "for country in countries:\n",
    "    df_test = df[df['Country'] == country]\n",
    "    results.append(chi_squared_test(df_test,'','PsychologicalHeath'))\n",
    "output = pd.DataFrame(results, columns = ['Country','Value', 'Critical'])"
   ]
  },
  {
   "cell_type": "code",
   "execution_count": 26,
   "metadata": {},
   "outputs": [
    {
     "data": {
      "text/html": [
       "<div>\n",
       "<style scoped>\n",
       "    .dataframe tbody tr th:only-of-type {\n",
       "        vertical-align: middle;\n",
       "    }\n",
       "\n",
       "    .dataframe tbody tr th {\n",
       "        vertical-align: top;\n",
       "    }\n",
       "\n",
       "    .dataframe thead th {\n",
       "        text-align: right;\n",
       "    }\n",
       "</style>\n",
       "<table border=\"1\" class=\"dataframe\">\n",
       "  <thead>\n",
       "    <tr style=\"text-align: right;\">\n",
       "      <th></th>\n",
       "      <th>Country</th>\n",
       "      <th>Value</th>\n",
       "      <th>Critical</th>\n",
       "      <th>Significant</th>\n",
       "    </tr>\n",
       "  </thead>\n",
       "  <tbody>\n",
       "    <tr>\n",
       "      <th>0</th>\n",
       "      <td>China</td>\n",
       "      <td>23.552714</td>\n",
       "      <td>31.410433</td>\n",
       "      <td>False</td>\n",
       "    </tr>\n",
       "    <tr>\n",
       "      <th>1</th>\n",
       "      <td>Mexico</td>\n",
       "      <td>37.207165</td>\n",
       "      <td>31.410433</td>\n",
       "      <td>True</td>\n",
       "    </tr>\n",
       "    <tr>\n",
       "      <th>2</th>\n",
       "      <td>Bangladesh</td>\n",
       "      <td>18.358428</td>\n",
       "      <td>31.410433</td>\n",
       "      <td>False</td>\n",
       "    </tr>\n",
       "    <tr>\n",
       "      <th>3</th>\n",
       "      <td>United States</td>\n",
       "      <td>26.141144</td>\n",
       "      <td>31.410433</td>\n",
       "      <td>False</td>\n",
       "    </tr>\n",
       "    <tr>\n",
       "      <th>4</th>\n",
       "      <td>Pakistan</td>\n",
       "      <td>36.727583</td>\n",
       "      <td>31.410433</td>\n",
       "      <td>True</td>\n",
       "    </tr>\n",
       "    <tr>\n",
       "      <th>5</th>\n",
       "      <td>Malaysia</td>\n",
       "      <td>21.632137</td>\n",
       "      <td>31.410433</td>\n",
       "      <td>False</td>\n",
       "    </tr>\n",
       "  </tbody>\n",
       "</table>\n",
       "</div>"
      ],
      "text/plain": [
       "         Country      Value   Critical  Significant\n",
       "0          China  23.552714  31.410433        False\n",
       "1         Mexico  37.207165  31.410433         True\n",
       "2     Bangladesh  18.358428  31.410433        False\n",
       "3  United States  26.141144  31.410433        False\n",
       "4       Pakistan  36.727583  31.410433         True\n",
       "5       Malaysia  21.632137  31.410433        False"
      ]
     },
     "execution_count": 26,
     "metadata": {},
     "output_type": "execute_result"
    }
   ],
   "source": [
    "output['Significant'] = output['Value'] > output['Critical']\n",
    "output"
   ]
  },
  {
   "cell_type": "code",
   "execution_count": 16,
   "metadata": {},
   "outputs": [
    {
     "data": {
      "text/plain": [
       "<AxesSubplot:xlabel='Sex'>"
      ]
     },
     "execution_count": 16,
     "metadata": {},
     "output_type": "execute_result"
    },
    {
     "data": {
      "image/png": "[encoded data removed]",
      "text/plain": [
       "<Figure size 864x864 with 1 Axes>"
      ]
     },
     "metadata": {
      "needs_background": "light"
     },
     "output_type": "display_data"
    }
   ],
   "source": [
    "df_test = df[df['Country'] == 'Bangladesh']\n",
    "contingency_table = pd.crosstab(df_test['Sex'],df_test['KnowledgeScore'])\n",
    "contingency_table.plot.bar(stacked=False)"
   ]
  },
  {
   "cell_type": "markdown",
   "metadata": {},
   "source": [
    "<h1> RAW Stuffs </h1>"
   ]
  },
  {
   "cell_type": "code",
   "execution_count": 95,
   "metadata": {},
   "outputs": [
    {
     "data": {
      "text/plain": [
       "1.0    1814\n",
       "3.0     669\n",
       "4.0     266\n",
       "5.0     244\n",
       "2.0      38\n",
       "Name: 1.3_CovidKnowledgeLevel, dtype: int64"
      ]
     },
     "execution_count": 95,
     "metadata": {},
     "output_type": "execute_result"
    }
   ],
   "source": [
    "df['1.3_CovidKnowledgeLevel'].value_counts()"
   ]
  },
  {
   "cell_type": "code",
   "execution_count": 54,
   "metadata": {},
   "outputs": [
    {
     "data": {
      "text/plain": [
       "<AxesSubplot:xlabel='1.3_CovidKnowledgeLevel'>"
      ]
     },
     "execution_count": 54,
     "metadata": {},
     "output_type": "execute_result"
    },
    {
     "data": {
      "image/png": "[encoded data removed]",
      "text/plain": [
       "<Figure size 864x864 with 1 Axes>"
      ]
     },
     "metadata": {
      "needs_background": "light"
     },
     "output_type": "display_data"
    }
   ],
   "source": []
  },
  {
   "cell_type": "code",
   "execution_count": 139,
   "metadata": {},
   "outputs": [
    {
     "data": {
      "text/plain": [
       "<AxesSubplot:title={'center':'Lockdown'}, xlabel='[sex]'>"
      ]
     },
     "execution_count": 139,
     "metadata": {},
     "output_type": "execute_result"
    },
    {
     "data": {
      "image/png": "[encoded data removed]",
      "text/plain": [
       "<Figure size 864x864 with 1 Axes>"
      ]
     },
     "metadata": {
      "needs_background": "light"
     },
     "output_type": "display_data"
    }
   ],
   "source": [
    "df_test.boxplot(column=['Lockdown'],by=['sex'])"
   ]
  },
  {
   "cell_type": "code",
   "execution_count": null,
   "metadata": {},
   "outputs": [],
   "source": []
  }
 ],
 "metadata": {
  "kernelspec": {
   "display_name": "Python 3",
   "language": "python",
   "name": "python3"
  },
  "language_info": {
   "codemirror_mode": {
    "name": "ipython",
    "version": 3
   },
   "file_extension": ".py",
   "mimetype": "text/x-python",
   "name": "python",
   "nbconvert_exporter": "python",
   "pygments_lexer": "ipython3",
   "version": "3.8.5"
  }
 },
 "nbformat": 4,
 "nbformat_minor": 4
}
