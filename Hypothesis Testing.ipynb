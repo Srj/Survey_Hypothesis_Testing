{
 "cells": [
  {
   "cell_type": "code",
   "execution_count": null,
   "metadata": {},
   "outputs": [],
   "source": [
    "# !pip install dataframe_image"
   ]
  },
  {
   "cell_type": "code",
   "execution_count": 2,
   "metadata": {},
   "outputs": [],
   "source": [
    "import numpy as np\n",
    "import pandas as pd\n",
    "import matplotlib.pyplot as plt\n",
    "import seaborn as sns\n",
    "plt.rcParams['figure.figsize']= (12,12)\n",
    "import warnings\n",
    "warnings.filterwarnings('ignore')"
   ]
  },
  {
   "cell_type": "code",
   "execution_count": 3,
   "metadata": {},
   "outputs": [],
   "source": [
    "df = pd.read_csv('data/Cleaned.csv')"
   ]
  },
  {
   "cell_type": "code",
   "execution_count": 4,
   "metadata": {},
   "outputs": [
    {
     "data": {
      "text/plain": [
       "Index(['Profession', 'Country', 'Region', 'Education', 'Sex', 'Age', 'AgeBin',\n",
       "       'Maritial', '1.1_HeardCovid', '1.2_Television/Radio',\n",
       "       '1.2_Newspaper/Magazines', '1.2_SocialMedia',\n",
       "       '1.2_Colleagues/Workplace', '1.2_Neighbors', '1.3_CovidKnowledgeLevel',\n",
       "       '1.4_ContactRespiratoryDrop', '1.4_Touching', '1.4_UseSameObject',\n",
       "       '1.4_Sex', '1.4_PersonToPerson', '1.4_CloseContact', '1.4_TouchingCoin',\n",
       "       '1.4_CovidFloatOnAir', '1.5_Fever', '1.5_Tiredness', '1.5_Cough',\n",
       "       '1.5_ShortnessBreath', '1.5_AchesPain', '1.5_NasalCongestion',\n",
       "       '1.5_RunningNose', '1.5_SoreThroat', '1.5_Diarrhea', '1.6_Mask',\n",
       "       '1.7_IncubationPeriod', '1.8_Vaccine', '1.9_LockDown', '1.9_Isolation',\n",
       "       '1.9_Quarantine', '1.10_Over60Yr', '1.10_PrexistingCond',\n",
       "       '1.10_WorkEnvo', '1.10_RiskZone', '2.1_LockDown', '2.2_HomeQuarantine',\n",
       "       '2.3_Isolation', '2.4_PersonalHygiene', '2.5_MediaRole', '2.6_Over60Yr',\n",
       "       '2.6_PreExisting', '2.6_Working', '2.6_RiskZone', '3.1_Quarantine',\n",
       "       '3.1_Respository', '3.1_WashingHand', '3.1_Mask', '3.1_TouchingMouth',\n",
       "       '3.1_SocialDistance', '3.2_PPE', '3.3_Test', '3.4_Handshake', '3.4_Hug',\n",
       "       '3.4_VisitPlaces', '3.4_ContactInfected', '3.4_Religion',\n",
       "       '3.5_HandWash', '3.8_Internet', '3.9_Newspaper', '3.9_TV',\n",
       "       '3.9_SocialMedia', '3.9_Internet', '3.10_TimeSpentOnCovidNews',\n",
       "       '4.1_FearOfDeath', '4.1_Anxeity', '4.1_Depression',\n",
       "       '4.1_SocialExclusion', '4.1_Lonliness', 'Access_Of_Information',\n",
       "       'N90BestToControlSpread', 'KnowledgeScore', 'OpinionScoring',\n",
       "       'Susceptiblity', 'BehaveScore', 'PsychologicalHeath', 'LearntCovid'],\n",
       "      dtype='object')"
      ]
     },
     "execution_count": 4,
     "metadata": {},
     "output_type": "execute_result"
    }
   ],
   "source": [
    "df.columns"
   ]
  },
  {
   "cell_type": "code",
   "execution_count": 5,
   "metadata": {
    "scrolled": true
   },
   "outputs": [
    {
     "data": {
      "text/plain": [
       "1    1372\n",
       "2     631\n",
       "3     504\n",
       "4     303\n",
       "5     221\n",
       "Name: 3.10_TimeSpentOnCovidNews, dtype: int64"
      ]
     },
     "execution_count": 5,
     "metadata": {},
     "output_type": "execute_result"
    }
   ],
   "source": [
    "df['3.10_TimeSpentOnCovidNews'].value_counts()\n"
   ]
  },
  {
   "cell_type": "code",
   "execution_count": 6,
   "metadata": {},
   "outputs": [
    {
     "data": {
      "text/plain": [
       "3031"
      ]
     },
     "execution_count": 6,
     "metadata": {},
     "output_type": "execute_result"
    }
   ],
   "source": [
    "df.AgeBin.value_counts().sum()"
   ]
  },
  {
   "cell_type": "code",
   "execution_count": 7,
   "metadata": {},
   "outputs": [
    {
     "data": {
      "text/plain": [
       "(0.0, 30.0]     1820\n",
       "(30.0, 40.0]     588\n",
       "(40.0, 50.0]     312\n",
       "(50.0, 64.0]     277\n",
       "(64.0, inf]       34\n",
       "Name: AgeBin, dtype: int64"
      ]
     },
     "execution_count": 7,
     "metadata": {},
     "output_type": "execute_result"
    }
   ],
   "source": [
    "#Ref  https://www.cdc.gov/coronavirus/2019-ncov/need-extra-precautions/older-adults.html\n",
    "bins = pd.IntervalIndex.from_tuples([(0,30),(30,40),(40,50),(50,64),(64,np.inf)])\n",
    "df['AgeBin'] = pd.cut(df.Age,bins)\n",
    "df.AgeBin.value_counts()"
   ]
  },
  {
   "cell_type": "code",
   "execution_count": 11,
   "metadata": {},
   "outputs": [
    {
     "data": {
      "text/plain": [
       "['China',\n",
       " 'Mexico',\n",
       " 'Bangladesh',\n",
       " 'United States',\n",
       " 'Pakistan',\n",
       " 'Malaysia',\n",
       " 'Japan',\n",
       " 'Zambia']"
      ]
     },
     "execution_count": 11,
     "metadata": {},
     "output_type": "execute_result"
    }
   ],
   "source": [
    "countries = df.Country.value_counts().index[:8].tolist()\n",
    "countries"
   ]
  },
  {
   "cell_type": "markdown",
   "metadata": {},
   "source": [
    "<h1> RAW Stuffs </h1>"
   ]
  },
  {
   "cell_type": "code",
   "execution_count": 8,
   "metadata": {},
   "outputs": [
    {
     "ename": "FileExistsError",
     "evalue": "[Errno 17] File exists: 'Graph/Access_Of_Information/Sex'",
     "output_type": "error",
     "traceback": [
      "\u001b[0;31m---------------------------------------------------------------------------\u001b[0m",
      "\u001b[0;31mFileExistsError\u001b[0m                           Traceback (most recent call last)",
      "\u001b[0;32m<ipython-input-8-8b380cb2fa8d>\u001b[0m in \u001b[0;36m<module>\u001b[0;34m\u001b[0m\n\u001b[1;32m      7\u001b[0m \u001b[0;32mfor\u001b[0m \u001b[0mc\u001b[0m \u001b[0;32min\u001b[0m \u001b[0mcriterion\u001b[0m\u001b[0;34m:\u001b[0m\u001b[0;34m\u001b[0m\u001b[0;34m\u001b[0m\u001b[0m\n\u001b[1;32m      8\u001b[0m     \u001b[0;32mfor\u001b[0m \u001b[0mf\u001b[0m \u001b[0;32min\u001b[0m \u001b[0mfield\u001b[0m\u001b[0;34m:\u001b[0m\u001b[0;34m\u001b[0m\u001b[0;34m\u001b[0m\u001b[0m\n\u001b[0;32m----> 9\u001b[0;31m         \u001b[0mos\u001b[0m\u001b[0;34m.\u001b[0m\u001b[0mmakedirs\u001b[0m\u001b[0;34m(\u001b[0m\u001b[0mos\u001b[0m\u001b[0;34m.\u001b[0m\u001b[0mpath\u001b[0m\u001b[0;34m.\u001b[0m\u001b[0mjoin\u001b[0m\u001b[0;34m(\u001b[0m\u001b[0;34m'Graph'\u001b[0m\u001b[0;34m,\u001b[0m\u001b[0mc\u001b[0m\u001b[0;34m,\u001b[0m\u001b[0mf\u001b[0m\u001b[0;34m)\u001b[0m\u001b[0;34m)\u001b[0m\u001b[0;34m\u001b[0m\u001b[0;34m\u001b[0m\u001b[0m\n\u001b[0m",
      "\u001b[0;32m~/.conda/envs/env/lib/python3.8/os.py\u001b[0m in \u001b[0;36mmakedirs\u001b[0;34m(name, mode, exist_ok)\u001b[0m\n\u001b[1;32m    221\u001b[0m             \u001b[0;32mreturn\u001b[0m\u001b[0;34m\u001b[0m\u001b[0;34m\u001b[0m\u001b[0m\n\u001b[1;32m    222\u001b[0m     \u001b[0;32mtry\u001b[0m\u001b[0;34m:\u001b[0m\u001b[0;34m\u001b[0m\u001b[0;34m\u001b[0m\u001b[0m\n\u001b[0;32m--> 223\u001b[0;31m         \u001b[0mmkdir\u001b[0m\u001b[0;34m(\u001b[0m\u001b[0mname\u001b[0m\u001b[0;34m,\u001b[0m \u001b[0mmode\u001b[0m\u001b[0;34m)\u001b[0m\u001b[0;34m\u001b[0m\u001b[0;34m\u001b[0m\u001b[0m\n\u001b[0m\u001b[1;32m    224\u001b[0m     \u001b[0;32mexcept\u001b[0m \u001b[0mOSError\u001b[0m\u001b[0;34m:\u001b[0m\u001b[0;34m\u001b[0m\u001b[0;34m\u001b[0m\u001b[0m\n\u001b[1;32m    225\u001b[0m         \u001b[0;31m# Cannot rely on checking for EEXIST, since the operating system\u001b[0m\u001b[0;34m\u001b[0m\u001b[0;34m\u001b[0m\u001b[0;34m\u001b[0m\u001b[0m\n",
      "\u001b[0;31mFileExistsError\u001b[0m: [Errno 17] File exists: 'Graph/Access_Of_Information/Sex'"
     ]
    }
   ],
   "source": [
    "#Create Necessary Dirs\n",
    "import os\n",
    "import dataframe_image as dfi\n",
    "criterion = ['Access_Of_Information', 'KnowledgeScore', 'OpinionScoring',\n",
    "       'Susceptiblity', 'BehaveScore', 'PsychologicalHeath', 'LearntCovid']\n",
    "field = ['Sex','Profession','AgeBin']\n",
    "for c in criterion:\n",
    "    for f in field:\n",
    "        os.makedirs(os.path.join('Graph',c,f))"
   ]
  },
  {
   "cell_type": "code",
   "execution_count": 18,
   "metadata": {},
   "outputs": [],
   "source": [
    "from scipy import stats\n",
    "def chi_squared_test(df,country,column1,column2,prob=0.95):\n",
    "#     print(column2,df[column2])\n",
    "    contingency_table = pd.crosstab(df[column1],df[column2])\n",
    "#     print(column1,column2,contingency_table)\n",
    "    stat,p,dof,expected = stats.chi2_contingency(contingency_table)\n",
    "    critical = stats.chi2.ppf(prob,dof)\n",
    "    contingency_table.plot.bar(stacked=False)\n",
    "    plt.title(country,fontsize=100)\n",
    "    plt.savefig(f'Graph/{column2}/{column1}/{column2}_{column1}_{country}.png',dpi=80)\n",
    "    return country, stat,critical"
   ]
  },
  {
   "cell_type": "code",
   "execution_count": 19,
   "metadata": {},
   "outputs": [],
   "source": [
    "import matplotlib \n",
    "matplotlib.rc('xtick', labelsize=30) \n",
    "matplotlib.rc('ytick', labelsize=30)"
   ]
  },
  {
   "cell_type": "code",
   "execution_count": null,
   "metadata": {},
   "outputs": [],
   "source": [
    "for c in criterion:\n",
    "    for f in field:\n",
    "        results = []\n",
    "        for i, country in enumerate(countries):\n",
    "            df_test = df[df['Country'] == country]\n",
    "            if not (country == 'China' and c =='Access_Of_Information'):\n",
    "                results.append(chi_squared_test(df_test,country,f,c))\n",
    "        output = pd.DataFrame(results, columns = ['Country','Value', 'Critical'])\n",
    "        output['Significant'] = output['Value'] > output['Critical']\n",
    "        df_styled = output.style.background_gradient()\n",
    "        dfi.export(df_styled,f\"Graph/{c}/{f}/table.png\")"
   ]
  },
  {
   "cell_type": "code",
   "execution_count": null,
   "metadata": {},
   "outputs": [],
   "source": []
  }
 ],
 "metadata": {
  "kernelspec": {
   "display_name": "Python 3",
   "language": "python",
   "name": "python3"
  },
  "language_info": {
   "codemirror_mode": {
    "name": "ipython",
    "version": 3
   },
   "file_extension": ".py",
   "mimetype": "text/x-python",
   "name": "python",
   "nbconvert_exporter": "python",
   "pygments_lexer": "ipython3",
   "version": "3.8.5"
  }
 },
 "nbformat": 4,
 "nbformat_minor": 4
}
