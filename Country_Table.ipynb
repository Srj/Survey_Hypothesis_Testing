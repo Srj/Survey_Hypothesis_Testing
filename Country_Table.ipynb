{
 "cells": [
  {
   "cell_type": "code",
   "execution_count": 9,
   "metadata": {},
   "outputs": [],
   "source": [
    "import numpy as np\n",
    "import pandas as pd\n",
    "import warnings\n",
    "from datetime import datetime\n",
    "warnings.filterwarnings('ignore')"
   ]
  },
  {
   "cell_type": "code",
   "execution_count": 76,
   "metadata": {},
   "outputs": [],
   "source": [
    "df = pd.read_csv('data/Cleaned.csv')\n",
    "cleaned = pd.read_csv('data/Cleaned.csv')"
   ]
  },
  {
   "cell_type": "code",
   "execution_count": 44,
   "metadata": {},
   "outputs": [
    {
     "data": {
      "text/plain": [
       "(0.0, 25.0]     1340\n",
       "(25.0, 50.0]    1329\n",
       "(50.0, inf]      309\n",
       "nan               53\n",
       "Name: AgeBin, dtype: int64"
      ]
     },
     "execution_count": 44,
     "metadata": {},
     "output_type": "execute_result"
    }
   ],
   "source": []
  },
  {
   "cell_type": "code",
   "execution_count": 78,
   "metadata": {},
   "outputs": [
    {
     "data": {
      "text/plain": [
       "(2945, 84)"
      ]
     },
     "execution_count": 78,
     "metadata": {},
     "output_type": "execute_result"
    }
   ],
   "source": [
    "df = df[~df['Profession'].isin(['Others'])]\n",
    "# df.Profession.value_counts()\n",
    "countries = ['China', 'Mexico', 'Bangladesh', 'United States','Malaysia','Pakistan','Zambia','Japan']\n",
    "# cleaned =df[df['Country'].isin(countries)]\n",
    "cleaned = df\n",
    "cleaned = cleaned[~((cleaned['Country'].isin(['Bangladesh','Pakistan'])) & (cleaned['Age'] > 50))]\n",
    "cleaned = cleaned[~((cleaned['Country'].isin(['Mexico'])) & (cleaned['Education'] =='P'))]\n",
    "bins = pd.IntervalIndex.from_tuples([(0,25),(25,50),(50,np.inf)])\n",
    "cleaned['AgeBin'] = pd.cut(df.Age,bins)\n",
    "cleaned.AgeBin = cleaned.AgeBin.astype(str)\n",
    "cleaned.AgeBin.value_counts()\n",
    "cleaned.shape"
   ]
  },
  {
   "cell_type": "code",
   "execution_count": 79,
   "metadata": {},
   "outputs": [],
   "source": [
    "params = ['AgeBin','Education','Profession','Sex']"
   ]
  },
  {
   "cell_type": "code",
   "execution_count": 80,
   "metadata": {},
   "outputs": [],
   "source": [
    "def func(df,params):\n",
    "    freq = df.groupby(['Country',params[0]])[params[0]].agg(['count'])\n",
    "    freq.columns = ['f']\n",
    "    freq = freq.reset_index()\n",
    "    freq = freq.pivot(index=params[0],columns=\"Country\")\n",
    "    for i in params[1:]:\n",
    "        temp = df.groupby(['Country',i])[params[0]].agg(['count'])\n",
    "        temp.columns = ['f']\n",
    "        temp = temp.reset_index()\n",
    "        temp = temp.pivot(index=i,columns=\"Country\")\n",
    "        freq = pd.concat([freq,temp])\n",
    "        \n",
    "    return freq\n",
    "        "
   ]
  },
  {
   "cell_type": "code",
   "execution_count": 81,
   "metadata": {},
   "outputs": [],
   "source": [
    "temp = func(cleaned,params).T\n",
    "temp = temp.fillna(0).astype(int)"
   ]
  },
  {
   "cell_type": "code",
   "execution_count": 82,
   "metadata": {},
   "outputs": [],
   "source": [
    "temp.to_csv('Country_Table.csv')"
   ]
  },
  {
   "cell_type": "code",
   "execution_count": 83,
   "metadata": {},
   "outputs": [],
   "source": [
    "temp = pd.read_csv('Country_Table.csv')"
   ]
  },
  {
   "cell_type": "code",
   "execution_count": 85,
   "metadata": {},
   "outputs": [],
   "source": [
    "temp[temp.Country.isin(countries)].to_csv('Freq_Table.csv',index=False)"
   ]
  },
  {
   "cell_type": "code",
   "execution_count": null,
   "metadata": {},
   "outputs": [],
   "source": []
  }
 ],
 "metadata": {
  "kernelspec": {
   "display_name": "Python 3",
   "language": "python",
   "name": "python3"
  },
  "language_info": {
   "codemirror_mode": {
    "name": "ipython",
    "version": 3
   },
   "file_extension": ".py",
   "mimetype": "text/x-python",
   "name": "python",
   "nbconvert_exporter": "python",
   "pygments_lexer": "ipython3",
   "version": "3.8.2"
  }
 },
 "nbformat": 4,
 "nbformat_minor": 4
}
