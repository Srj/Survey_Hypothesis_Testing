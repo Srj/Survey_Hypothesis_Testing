{
 "cells": [
  {
   "cell_type": "code",
   "execution_count": 16,
   "metadata": {},
   "outputs": [],
   "source": [
    "import numpy as np\n",
    "import pandas as pd\n",
    "import warnings\n",
    "from datetime import datetime\n",
    "warnings.filterwarnings('ignore')"
   ]
  },
  {
   "cell_type": "code",
   "execution_count": 9,
   "metadata": {},
   "outputs": [],
   "source": [
    "df = pd.read_csv('data/Survey.csv')"
   ]
  },
  {
   "cell_type": "code",
   "execution_count": 10,
   "metadata": {},
   "outputs": [
    {
     "data": {
      "text/plain": [
       "Index(['Timestamp',\n",
       "       'Pleaseconfirmyourvoluntaryparticipationandgiveyourconsentfordata',\n",
       "       'Profession', 'Country', 'Region', 'Place of residence province',\n",
       "       '@4.HighestLevelofeducation', '@5.Whichsettingdoyouwork', 'sex', 'Age',\n",
       "       '@8.Maritalstatus',\n",
       "       '@9.MonthlytotalIncomefamilyincomeinlocalcurrencyoptional',\n",
       "       'COVIDNewsUpdates', 'A1.1HaveyouheardaboutCOVID19',\n",
       "       'A1.2 Where did you hear about COVID-19 most? (check all that apply ) [Television/Radio]',\n",
       "       'A1.2 Where did you hear about COVID-19 most? (check all that apply ) [Newspaper/ Magazines]',\n",
       "       'WheredidyouhearaboutCOVID19mostcheckallthatapplySocialmedia',\n",
       "       'A1.2 Where did you hear about COVID-19 most? (check all that apply ) [Colleagues/workplace]',\n",
       "       'A1.2 Where did you hear about COVID-19 most? (check all that apply ) [Neighbors]',\n",
       "       'A3.8 Do you or your household members use internet?',\n",
       "       'A3.9 Please indicate which of the following do you use for COVID-19 update (check all that apply)? [Newspaper]',\n",
       "       'A3.9 Please indicate which of the following do you use for COVID-19 update (check all that apply)? [TV (local/ international)]',\n",
       "       'A3.9 Please indicate which of the following do you use for COVID-19 update (check all that apply)? [Social media (Facebook, Instagram, Line, YouTube etc.)]',\n",
       "       'A3.9 Please indicate which of the following do you use for COVID-19 update (check all that apply)? [Internet (WHO websites)]',\n",
       "       'A3.10 How much time, on average, per day do you spend on the topics related to COVID-19 (e.g. via news coverage, work, conversations, thoughts)? Please indicate a daily average..',\n",
       "       'COVIDK0wledgeampAwarenesPublicOpinion',\n",
       "       'B1.3 How would you rate the extend of your k0wledge of COVID-19?',\n",
       "       'B1.4 How does COVID19 Spread/Transmitted (check all that apply) [Contact with respiratory droplets]',\n",
       "       'B1.4 How does COVID19 Spread/Transmitted (check all that apply) [Touching and shaking hands with an infected person]',\n",
       "       'B1.4 How does COVID19 Spread/Transmitted (check all that apply) [The use of objects used by an infected person]',\n",
       "       'B1.4 How does COVID19 Spread/Transmitted (check all that apply) [Sexual route]',\n",
       "       'B1.4 How does COVID19 Spread/Transmitted (check all that apply) [Person-to-person]',\n",
       "       'B1.4 How does COVID19 Spread/Transmitted (check all that apply) [Close contact]',\n",
       "       'B1.4 How does COVID19 Spread/Transmitted (check all that apply) [Touching currency/Coin]',\n",
       "       'B1.4 How does COVID19 Spread/Transmitted (check all that apply) [COVID-19 can float on air almost 30 minutes]',\n",
       "       'B1.5 In your opinion, what are the signs and symptoms of COVID-19 (check all that apply) [Fever]',\n",
       "       'B1.5 In your opinion, what are the signs and symptoms of COVID-19 (check all that apply) [Tiredness]',\n",
       "       'B1.5 In your opinion, what are the signs and symptoms of COVID-19 (check all that apply) [Dry cough]',\n",
       "       'B1.5 In your opinion, what are the signs and symptoms of COVID-19 (check all that apply) [Shortness of breath/Breathing difficulties]',\n",
       "       'B1.5 In your opinion, what are the signs and symptoms of COVID-19 (check all that apply) [aches and pains]',\n",
       "       'B1.5 In your opinion, what are the signs and symptoms of COVID-19 (check all that apply) [nasal congestion]',\n",
       "       'B1.5 In your opinion, what are the signs and symptoms of COVID-19 (check all that apply) [runny 0se]',\n",
       "       'B1.5 In your opinion, what are the signs and symptoms of COVID-19 (check all that apply) [sore throat]',\n",
       "       'B1.5 In your opinion, what are the signs and symptoms of COVID-19 (check all that apply) [Diarrhea]',\n",
       "       'N90 mask(s) do you think is best to control the spread of the COVID-19? (If yes then 1 else 0)',\n",
       "       'C1.10 Is anyone in your immediate environment at risk of infection with COVID-19 (e.g. parents, siblings, close friends/colleagues) due to the following? (please select all relevant responses) [age (over 60 years)]',\n",
       "       'C1.10 Is anyone in your immediate environment at risk of infection with COVID-19 (e.g. parents, siblings, close friends/colleagues) due to the following? (please select all relevant responses) [severe pre-existing conditions (e.g. Respiratory diseases, heart diseases, cancer, immune deficiency problem)]',\n",
       "       'C1.10 Is anyone in your immediate environment at risk of infection with COVID-19 (e.g. parents, siblings, close friends/colleagues) due to the following? (please select all relevant responses) [work environment (e.g. Working in the health care environment and involving in contact with patients)]',\n",
       "       'C1.10 Is anyone in your immediate environment at risk of infection with COVID-19 (e.g. parents, siblings, close friends/colleagues) due to the following? (please select all relevant responses) [exposure to a risk zone/areas/countries (e.g. China, Italy etc.)]',\n",
       "       'Knowledge scoring {22/22}',\n",
       "       'B1.6 Which mask(s) do you think is best to control the spread of the COVID-19?',\n",
       "       'B1.7 How long is the incubation period for COVID-19?',\n",
       "       'B1.8 Are there any vaccines, drugs or treatments for COVID-19?',\n",
       "       'B2.1 Do you think the government should lock-down/restrict travel areas to avoid spread of COVID-19?',\n",
       "       'B2.2 Do you think home quarantine can reduce COVID-19 outbreaks?',\n",
       "       'B2.3 Isolation and treatment of infected people are effective ways to reduce the spread of the virus?',\n",
       "       'B2.4 Do you think personal hygiene is important in controlling the spread of COVID-19?',\n",
       "       'B2.5 Media should take a leading role in raising awareness coronavirus risk reduction and prevention issues ?',\n",
       "       'Opinion-scoring {25/25}', 'COVID Circumstances /Stiuation',\n",
       "       'C1.9 Please check for which you familiar with? (check all that apply) [lock-down]',\n",
       "       'C1.9 Please check for which you familiar with? (check all that apply) [self-isolation]',\n",
       "       'C1.9 Please check for which you familiar with? (check all that apply) [home quarantine]',\n",
       "       'C2.6 Do you think you are at increased personal risk of infection with COVID-19 due to any of the following?(please select all relevant responses) [age (over 60 years)]',\n",
       "       'C2.6 Do you think you are at increased personal risk of infection with COVID-19 due to any of the following?(please select all relevant responses) [severe pre-existing conditions (e.g. Respiratory diseases, heart diseases, cancer, immune deficiency problem)]',\n",
       "       'C2.6 Do you think you are at increased personal risk of infection with COVID-19 due to any of the following?(please select all relevant responses) [work environment (e.g. Working in the health care environment and involving in contact with patients)]',\n",
       "       'C2.6 Do you think you are at increased personal risk of infection with COVID-19 due to any of the following?(please select all relevant responses) [exposure to a risk zone/areas/countries (e.g. China, Italy etc.)]',\n",
       "       'Susceptibility-scoring {4/4}', 'COVID Practices',\n",
       "       'D3.1 Do you have any of the following practices to prevent COVID-19 transmission (check all that apply)? [Practicing self-isolation/Home quarantine]',\n",
       "       'D3.1 Do you have any of the following practices to prevent COVID-19 transmission (check all that apply)? [Practicing respiratory hygiene]',\n",
       "       'D3.1 Do you have any of the following practices to prevent COVID-19 transmission (check all that apply)? [washing hand frequently using hand sanitizer (alcohol based)]',\n",
       "       'D3.1 Do you have any of the following practices to prevent COVID-19 transmission (check all that apply)? [Using face mask (Surgical)]',\n",
       "       'D3.1 Do you have any of the following practices to prevent COVID-19 transmission (check all that apply)? [Avoiding touching 0se, mouth and e1]',\n",
       "       'D3.1 Do you have any of the following practices to prevent COVID-19 transmission (check all that apply)? [Maintaining social distance (min 1 meter)]',\n",
       "       'D3.4 Do you have any of the following practices 1w a days? [any handshake?] Neg',\n",
       "       'D3.4 Do you have any of the following practices 1w a days? [Hug?]Neg',\n",
       "       'D3.4 Do you have any of the following practices 1w a days? [Visiting public places?]Neg',\n",
       "       'D3.4 Do you have any of the following practices 1w a days? [contact with infected person?]Neg',\n",
       "       'D3.4 Do you have any of the following practices 1w a days? [You/your family members going church/ mosque/ temple/synagogue/ pagoda for prayer]Neg',\n",
       "       'Behaviour-scoring {11/11}',\n",
       "       'D3.5 how many times did you wash hand in last 12 hours or 12 hours?',\n",
       "       'D3.2 Have you been provided with personal protection equipment (PPE) in your workplace?',\n",
       "       'D3.3 Have you tested yourself for COVID-19?',\n",
       "       'COVID Psychological Aspects',\n",
       "       'E4.1 What are your mental health/psychological problems regarding COVID-19? (check all that apply) [Fear of falling ill and dying]',\n",
       "       'E4.1 What are your mental health/psychological problems regarding COVID-19? (check all that apply) [Anxiety]',\n",
       "       'E4.1 What are your mental health/psychological problems regarding COVID-19? (check all that apply) [Depression]',\n",
       "       'E4.1 What are your mental health/psychological problems regarding COVID-19? (check all that apply) [Fear of being socially excluded/placed in quarantine]',\n",
       "       'E4.1 What are your mental health/psychological problems regarding COVID-19? (check all that apply) [Feelings of helplessness, boredom, loneliness]',\n",
       "       'Psychological-health Soring{5/5}'],\n",
       "      dtype='object')"
      ]
     },
     "execution_count": 10,
     "metadata": {},
     "output_type": "execute_result"
    }
   ],
   "source": [
    "df.columns\n"
   ]
  },
  {
   "cell_type": "code",
   "execution_count": 15,
   "metadata": {},
   "outputs": [
    {
     "data": {
      "text/plain": [
       "Male           1732\n",
       "Female         1304\n",
       "Transgender       1\n",
       "Binary            1\n",
       "Name: sex, dtype: int64"
      ]
     },
     "execution_count": 15,
     "metadata": {},
     "output_type": "execute_result"
    }
   ],
   "source": [
    "#Fixing Sex Column\n",
    "df.sex.replace({'Transgender 1': 'Transgender','0nbinary':'Binary','1':'Female','2':'Male'},inplace=True)\n",
    "df.sex.value_counts()"
   ]
  },
  {
   "cell_type": "code",
   "execution_count": 17,
   "metadata": {},
   "outputs": [],
   "source": [
    "df.to_csv('Cleaned.csv',index=False)"
   ]
  },
  {
   "cell_type": "code",
   "execution_count": null,
   "metadata": {},
   "outputs": [],
   "source": []
  }
 ],
 "metadata": {
  "kernelspec": {
   "display_name": "Python 3",
   "language": "python",
   "name": "python3"
  },
  "language_info": {
   "codemirror_mode": {
    "name": "ipython",
    "version": 3
   },
   "file_extension": ".py",
   "mimetype": "text/x-python",
   "name": "python",
   "nbconvert_exporter": "python",
   "pygments_lexer": "ipython3",
   "version": "3.8.5"
  }
 },
 "nbformat": 4,
 "nbformat_minor": 4
}
