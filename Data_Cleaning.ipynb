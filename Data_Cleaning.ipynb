{
 "cells": [
  {
   "cell_type": "code",
   "execution_count": 2,
   "metadata": {},
   "outputs": [],
   "source": [
    "import numpy as np\n",
    "import pandas as pd\n",
    "import warnings\n",
    "from datetime import datetime\n",
    "warnings.filterwarnings('ignore')"
   ]
  },
  {
   "cell_type": "code",
   "execution_count": 3,
   "metadata": {},
   "outputs": [],
   "source": [
    "df = pd.read_csv('data/Survey.csv')"
   ]
  },
  {
   "cell_type": "code",
   "execution_count": 4,
   "metadata": {},
   "outputs": [
    {
     "data": {
      "text/plain": [
       "Index(['Timestamp',\n",
       "       'Pleaseconfirmyourvoluntaryparticipationandgiveyourconsentfordata',\n",
       "       'Profession', 'Country', 'Region', 'Place of residence province',\n",
       "       '@4.HighestLevelofeducation', '@5.Whichsettingdoyouwork', 'sex', 'Age',\n",
       "       '@8.Maritalstatus',\n",
       "       '@9.MonthlytotalIncomefamilyincomeinlocalcurrencyoptional',\n",
       "       'COVIDNewsUpdates', 'A1.1HaveyouheardaboutCOVID19',\n",
       "       'A1.2 Where did you hear about COVID-19 most? (check all that apply ) [Television/Radio]',\n",
       "       'A1.2 Where did you hear about COVID-19 most? (check all that apply ) [Newspaper/ Magazines]',\n",
       "       'WheredidyouhearaboutCOVID19mostcheckallthatapplySocialmedia',\n",
       "       'A1.2 Where did you hear about COVID-19 most? (check all that apply ) [Colleagues/workplace]',\n",
       "       'A1.2 Where did you hear about COVID-19 most? (check all that apply ) [Neighbors]',\n",
       "       'A3.8 Do you or your household members use internet?',\n",
       "       'A3.9 Please indicate which of the following do you use for COVID-19 update (check all that apply)? [Newspaper]',\n",
       "       'A3.9 Please indicate which of the following do you use for COVID-19 update (check all that apply)? [TV (local/ international)]',\n",
       "       'A3.9 Please indicate which of the following do you use for COVID-19 update (check all that apply)? [Social media (Facebook, Instagram, Line, YouTube etc.)]',\n",
       "       'A3.9 Please indicate which of the following do you use for COVID-19 update (check all that apply)? [Internet (WHO websites)]',\n",
       "       'A3.10 How much time, on average, per day do you spend on the topics related to COVID-19 (e.g. via news coverage, work, conversations, thoughts)? Please indicate a daily average..',\n",
       "       'COVIDK0wledgeampAwarenesPublicOpinion',\n",
       "       'B1.3 How would you rate the extend of your k0wledge of COVID-19?',\n",
       "       'B1.4 How does COVID19 Spread/Transmitted (check all that apply) [Contact with respiratory droplets]',\n",
       "       'B1.4 How does COVID19 Spread/Transmitted (check all that apply) [Touching and shaking hands with an infected person]',\n",
       "       'B1.4 How does COVID19 Spread/Transmitted (check all that apply) [The use of objects used by an infected person]',\n",
       "       'B1.4 How does COVID19 Spread/Transmitted (check all that apply) [Sexual route]',\n",
       "       'B1.4 How does COVID19 Spread/Transmitted (check all that apply) [Person-to-person]',\n",
       "       'B1.4 How does COVID19 Spread/Transmitted (check all that apply) [Close contact]',\n",
       "       'B1.4 How does COVID19 Spread/Transmitted (check all that apply) [Touching currency/Coin]',\n",
       "       'B1.4 How does COVID19 Spread/Transmitted (check all that apply) [COVID-19 can float on air almost 30 minutes]',\n",
       "       'B1.5 In your opinion, what are the signs and symptoms of COVID-19 (check all that apply) [Fever]',\n",
       "       'B1.5 In your opinion, what are the signs and symptoms of COVID-19 (check all that apply) [Tiredness]',\n",
       "       'B1.5 In your opinion, what are the signs and symptoms of COVID-19 (check all that apply) [Dry cough]',\n",
       "       'B1.5 In your opinion, what are the signs and symptoms of COVID-19 (check all that apply) [Shortness of breath/Breathing difficulties]',\n",
       "       'B1.5 In your opinion, what are the signs and symptoms of COVID-19 (check all that apply) [aches and pains]',\n",
       "       'B1.5 In your opinion, what are the signs and symptoms of COVID-19 (check all that apply) [nasal congestion]',\n",
       "       'B1.5 In your opinion, what are the signs and symptoms of COVID-19 (check all that apply) [runny 0se]',\n",
       "       'B1.5 In your opinion, what are the signs and symptoms of COVID-19 (check all that apply) [sore throat]',\n",
       "       'B1.5 In your opinion, what are the signs and symptoms of COVID-19 (check all that apply) [Diarrhea]',\n",
       "       'N90 mask(s) do you think is best to control the spread of the COVID-19? (If yes then 1 else 0)',\n",
       "       'C1.10 Is anyone in your immediate environment at risk of infection with COVID-19 (e.g. parents, siblings, close friends/colleagues) due to the following? (please select all relevant responses) [age (over 60 years)]',\n",
       "       'C1.10 Is anyone in your immediate environment at risk of infection with COVID-19 (e.g. parents, siblings, close friends/colleagues) due to the following? (please select all relevant responses) [severe pre-existing conditions (e.g. Respiratory diseases, heart diseases, cancer, immune deficiency problem)]',\n",
       "       'C1.10 Is anyone in your immediate environment at risk of infection with COVID-19 (e.g. parents, siblings, close friends/colleagues) due to the following? (please select all relevant responses) [work environment (e.g. Working in the health care environment and involving in contact with patients)]',\n",
       "       'C1.10 Is anyone in your immediate environment at risk of infection with COVID-19 (e.g. parents, siblings, close friends/colleagues) due to the following? (please select all relevant responses) [exposure to a risk zone/areas/countries (e.g. China, Italy etc.)]',\n",
       "       'Knowledge scoring {22/22}',\n",
       "       'B1.6 Which mask(s) do you think is best to control the spread of the COVID-19?',\n",
       "       'B1.7 How long is the incubation period for COVID-19?',\n",
       "       'B1.8 Are there any vaccines, drugs or treatments for COVID-19?',\n",
       "       'B2.1 Do you think the government should lock-down/restrict travel areas to avoid spread of COVID-19?',\n",
       "       'B2.2 Do you think home quarantine can reduce COVID-19 outbreaks?',\n",
       "       'B2.3 Isolation and treatment of infected people are effective ways to reduce the spread of the virus?',\n",
       "       'B2.4 Do you think personal hygiene is important in controlling the spread of COVID-19?',\n",
       "       'B2.5 Media should take a leading role in raising awareness coronavirus risk reduction and prevention issues ?',\n",
       "       'Opinion-scoring {25/25}', 'COVID Circumstances /Stiuation',\n",
       "       'C1.9 Please check for which you familiar with? (check all that apply) [lock-down]',\n",
       "       'C1.9 Please check for which you familiar with? (check all that apply) [self-isolation]',\n",
       "       'C1.9 Please check for which you familiar with? (check all that apply) [home quarantine]',\n",
       "       'C2.6 Do you think you are at increased personal risk of infection with COVID-19 due to any of the following?(please select all relevant responses) [age (over 60 years)]',\n",
       "       'C2.6 Do you think you are at increased personal risk of infection with COVID-19 due to any of the following?(please select all relevant responses) [severe pre-existing conditions (e.g. Respiratory diseases, heart diseases, cancer, immune deficiency problem)]',\n",
       "       'C2.6 Do you think you are at increased personal risk of infection with COVID-19 due to any of the following?(please select all relevant responses) [work environment (e.g. Working in the health care environment and involving in contact with patients)]',\n",
       "       'C2.6 Do you think you are at increased personal risk of infection with COVID-19 due to any of the following?(please select all relevant responses) [exposure to a risk zone/areas/countries (e.g. China, Italy etc.)]',\n",
       "       'Susceptibility-scoring {4/4}', 'COVID Practices',\n",
       "       'D3.1 Do you have any of the following practices to prevent COVID-19 transmission (check all that apply)? [Practicing self-isolation/Home quarantine]',\n",
       "       'D3.1 Do you have any of the following practices to prevent COVID-19 transmission (check all that apply)? [Practicing respiratory hygiene]',\n",
       "       'D3.1 Do you have any of the following practices to prevent COVID-19 transmission (check all that apply)? [washing hand frequently using hand sanitizer (alcohol based)]',\n",
       "       'D3.1 Do you have any of the following practices to prevent COVID-19 transmission (check all that apply)? [Using face mask (Surgical)]',\n",
       "       'D3.1 Do you have any of the following practices to prevent COVID-19 transmission (check all that apply)? [Avoiding touching 0se, mouth and e1]',\n",
       "       'D3.1 Do you have any of the following practices to prevent COVID-19 transmission (check all that apply)? [Maintaining social distance (min 1 meter)]',\n",
       "       'D3.4 Do you have any of the following practices 1w a days? [any handshake?] Neg',\n",
       "       'D3.4 Do you have any of the following practices 1w a days? [Hug?]Neg',\n",
       "       'D3.4 Do you have any of the following practices 1w a days? [Visiting public places?]Neg',\n",
       "       'D3.4 Do you have any of the following practices 1w a days? [contact with infected person?]Neg',\n",
       "       'D3.4 Do you have any of the following practices 1w a days? [You/your family members going church/ mosque/ temple/synagogue/ pagoda for prayer]Neg',\n",
       "       'Behaviour-scoring {11/11}',\n",
       "       'D3.5 how many times did you wash hand in last 12 hours or 12 hours?',\n",
       "       'D3.2 Have you been provided with personal protection equipment (PPE) in your workplace?',\n",
       "       'D3.3 Have you tested yourself for COVID-19?',\n",
       "       'COVID Psychological Aspects',\n",
       "       'E4.1 What are your mental health/psychological problems regarding COVID-19? (check all that apply) [Fear of falling ill and dying]',\n",
       "       'E4.1 What are your mental health/psychological problems regarding COVID-19? (check all that apply) [Anxiety]',\n",
       "       'E4.1 What are your mental health/psychological problems regarding COVID-19? (check all that apply) [Depression]',\n",
       "       'E4.1 What are your mental health/psychological problems regarding COVID-19? (check all that apply) [Fear of being socially excluded/placed in quarantine]',\n",
       "       'E4.1 What are your mental health/psychological problems regarding COVID-19? (check all that apply) [Feelings of helplessness, boredom, loneliness]',\n",
       "       'Psychological-health Soring{5/5}', 'AgeBin', 'Access_Of_Information'],\n",
       "      dtype='object')"
      ]
     },
     "execution_count": 4,
     "metadata": {},
     "output_type": "execute_result"
    }
   ],
   "source": [
    "df.columns"
   ]
  },
  {
   "cell_type": "code",
   "execution_count": 189,
   "metadata": {},
   "outputs": [
    {
     "data": {
      "text/plain": [
       "Male      1728\n",
       "Female    1303\n",
       "Name: sex, dtype: int64"
      ]
     },
     "execution_count": 189,
     "metadata": {},
     "output_type": "execute_result"
    }
   ],
   "source": [
    "#Fixing Sex Column\n",
    "df.sex.replace({'Transgender 1': 'Transgender','0nbinary':'Binary','1':'Female','2':'Male'},inplace=True)\n",
    "#Drop 2 Outliers\n",
    "df = df[df['sex'].isin(['Female','Male'])]\n",
    "df.sex.value_counts()"
   ]
  },
  {
   "cell_type": "code",
   "execution_count": 152,
   "metadata": {},
   "outputs": [
    {
     "data": {
      "text/plain": [
       "Academian/Administration    1631\n",
       "Medical Professionals       1349\n",
       "Others                        56\n",
       "Name: Profession, dtype: int64"
      ]
     },
     "execution_count": 152,
     "metadata": {},
     "output_type": "execute_result"
    }
   ],
   "source": [
    "#Fixing Profession\n",
    "df.Profession.replace({'others':'Others'},inplace=True)\n",
    "df.Profession.value_counts()"
   ]
  },
  {
   "cell_type": "code",
   "execution_count": 153,
   "metadata": {
    "scrolled": true
   },
   "outputs": [
    {
     "data": {
      "text/plain": [
       "China                   712\n",
       "Mexico                  595\n",
       "Bangladesh              494\n",
       "United States           335\n",
       "Pakistan                285\n",
       "Malaysia                151\n",
       "Japan                    87\n",
       "Zambia                   76\n",
       "Turkey                   38\n",
       "Ghana                    36\n",
       "United kingdom           30\n",
       "Bosnia & Herzegowina     24\n",
       "Nepal                    15\n",
       "Colombia                 12\n",
       "England                  11\n",
       "India                    11\n",
       "Thailand                 11\n",
       "United Arab Emirates     11\n",
       "Brazil                   10\n",
       "Saudi Arabia              9\n",
       "Norway                    7\n",
       "Italy                     5\n",
       "Oman                      4\n",
       "Morocco                   4\n",
       "Germany                   4\n",
       "Australia                 3\n",
       "Chile                     3\n",
       "South Africa              3\n",
       "New Zealand               3\n",
       "Canada                    3\n",
       "Hungary                   3\n",
       "Kazakhstan                2\n",
       "Myanmar                   2\n",
       "Kenya                     2\n",
       "Venezuela                 2\n",
       "Ireland                   2\n",
       "Nigeria                   2\n",
       "Malawi                    2\n",
       "South Korea               2\n",
       "Indonesia                 2\n",
       "Spain                     2\n",
       "Uganda                    2\n",
       "Wales                     2\n",
       "Macedonia                 1\n",
       "Iran                      1\n",
       "Finland                   1\n",
       "Scotland                  1\n",
       "Argentina                 1\n",
       "Egypt                     1\n",
       "Yemen                     1\n",
       "Laos                      1\n",
       "Hong Kong                 1\n",
       "Singapore                 1\n",
       "Philippines               1\n",
       "Algeria                   1\n",
       "Netherlands               1\n",
       "Portugal                  1\n",
       "Congo                     1\n",
       "Falkland Islands          1\n",
       "Qatar                     1\n",
       "Name: Country, dtype: int64"
      ]
     },
     "execution_count": 153,
     "metadata": {},
     "output_type": "execute_result"
    }
   ],
   "source": [
    "#Fixing Country\n",
    "df.Country.replace({'Maxico':'Mexico'},inplace=True)\n",
    "df.Country.value_counts()"
   ]
  },
  {
   "cell_type": "code",
   "execution_count": 14,
   "metadata": {},
   "outputs": [
    {
     "data": {
      "text/plain": [
       "Dhaka                 134\n",
       "So0ra, Hermosillo     114\n",
       "Rangpur                54\n",
       "Puebla                 45\n",
       "Hermosillo, So0ra      38\n",
       "Rajshahi               33\n",
       "So0ra                  33\n",
       "SO0RA, HERMOSILLO      31\n",
       "Karachi                29\n",
       "Islamabad              27\n",
       "Shizuoka é™å²¡çœŒ     26\n",
       "Kuala Lumpur           26\n",
       "Puebla, Puebla         24\n",
       "AydÄ±n                 20\n",
       "Lusaka                 19\n",
       "Tokyo æ±äº¬éƒ½        16\n",
       "Nagasaki é•·å´ŽçœŒ     15\n",
       "Portland, OR           14\n",
       "Sylhet                 13\n",
       "Selangor               12\n",
       "Name: Place of residence province, dtype: int64"
      ]
     },
     "execution_count": 14,
     "metadata": {},
     "output_type": "execute_result"
    }
   ],
   "source": [
    "df['Place of residence province'].value_counts()[:20]"
   ]
  },
  {
   "cell_type": "code",
   "execution_count": 154,
   "metadata": {},
   "outputs": [
    {
     "data": {
      "text/plain": [
       "array([675, 418, 283, 201, 193, 114,  56,  16,  15,  11])"
      ]
     },
     "execution_count": 154,
     "metadata": {},
     "output_type": "execute_result"
    }
   ],
   "source": [
    "#Fixing Education\n",
    "df['@4.HighestLevelofeducation'].replace({'Bachelor/undergraduate':'Undergrad','Bachelor\\'s degree': 'Undergrad',\n",
    "                                          'Master/graduate or Ph.D.':'Postgrad','Junior high school or lower':'Primary School',\n",
    "                                         'High school':'High School','PhD':'Postgrad','Masters':'Postgrad','college':'College',\n",
    "                                         'master\\'s degree':'Postgrad','Bachelor':'Undergrad','Master':'Postgrad',\n",
    "                                         'Graduate School(Master) å¤§å­¦é™¢å’æ¥­ï¼ˆä¿®å£«ï¼‰':'Postgrad',\n",
    "                                         'Doctorate':'Postgrad','bachelor':'Undergrad','Bachelor å¤§å­¦å’æ¥­':'Undergrad',\n",
    "                                          'high school':'High School','HSC':'High School','University':'Undergrad',\n",
    "                                         'Some college':'College','Master\\'s degree':'Postgrad','Tertiary':'Undergrad',\n",
    "                                         'Bachelors':'Undergrad','High School é«˜ç­‰å­¦æ ¡å’æ¥­':'High School',\n",
    "                                         'Graduation':'Undergrad','Graduate': 'Undergrad','Undergraduate':'Undergrad',\n",
    "                                         'High School é«˜ç‰å¦æ ¡å’æ¥':'High School','High school diploma':'High School',\n",
    "                                         'Bachelor\\'s':'Undergrad','Masters Degree':'Postgrad','Bachelor degree':'Undergrad',\n",
    "                                         'Bsc':'Undergrad','Masters degree':'Postgrad','Ho0urs':'Undergrad',\n",
    "                                         'Bachelors Degree':'Undergrad','MSc':'Postgrad','Mbbs':'MBBS','Graduate School(Doctor) å¤§å­¦é™¢å’æ¥­ï¼ˆåšå£«ï¼‰':'MBBS',\n",
    "                                         'MBBS 2nd year':'MBBS','M.B.B.S':'MBBS','Hsc':'High School','MSN':'MBBS','MBBS 1t year':'MBBS'},inplace=True)\n",
    "#Yet to Finish--------------------------------------------------------------------\n",
    "\n",
    "\n",
    "\n",
    "\n",
    "\n",
    "\n",
    "\n",
    "\n",
    "df['@4.HighestLevelofeducation'].value_counts()[:10].values"
   ]
  },
  {
   "cell_type": "code",
   "execution_count": 155,
   "metadata": {},
   "outputs": [
    {
     "data": {
      "text/plain": [
       "Medical                      495\n",
       "Community                    377\n",
       "OPD                          117\n",
       "Surgcial                      80\n",
       "External consultation         42\n",
       "                            ... \n",
       "Furloughed                     1\n",
       "Studying in a college          1\n",
       "English medium                 1\n",
       "IPD                            1\n",
       "Climate change, heat wave      1\n",
       "Name: @5.Whichsettingdoyouwork, Length: 552, dtype: int64"
      ]
     },
     "execution_count": 155,
     "metadata": {},
     "output_type": "execute_result"
    }
   ],
   "source": [
    "df['@5.Whichsettingdoyouwork'].value_counts()"
   ]
  },
  {
   "cell_type": "code",
   "execution_count": 190,
   "metadata": {},
   "outputs": [
    {
     "data": {
      "text/plain": [
       "(8.999, 21.0]    698\n",
       "(30.0, 41.0]     614\n",
       "(41.0, 76.0]     597\n",
       "(24.0, 30.0]     594\n",
       "(21.0, 24.0]     528\n",
       "Name: AgeBin, dtype: int64"
      ]
     },
     "execution_count": 190,
     "metadata": {},
     "output_type": "execute_result"
    }
   ],
   "source": [
    "#Drop Age = 2,1885,1984\n",
    "df = df[~df['Age'].isin([2,1885,1984])]\n",
    "#Binning by Age\n",
    "df['AgeBin'] = pd.qcut(df['Age'],5)\n",
    "df['AgeBin'].value_counts()"
   ]
  },
  {
   "cell_type": "code",
   "execution_count": 157,
   "metadata": {},
   "outputs": [
    {
     "data": {
      "text/plain": [
       "1    1709\n",
       "2    1196\n",
       "3     126\n",
       "Name: @8.Maritalstatus, dtype: int64"
      ]
     },
     "execution_count": 157,
     "metadata": {},
     "output_type": "execute_result"
    }
   ],
   "source": [
    "#Fixing Maritial Status\n",
    "df['@8.Maritalstatus'].replace({'In a realtionship':'1'},inplace=True)\n",
    "df['@8.Maritalstatus'].value_counts()"
   ]
  },
  {
   "cell_type": "code",
   "execution_count": 158,
   "metadata": {},
   "outputs": [
    {
     "data": {
      "text/plain": [
       "array(['2.8888', '400', nan, '0', '6000', '25000', '10', '1500', '12000',\n",
       "       '200', '120000', '5000', '100000', '10000', '500', '60000',\n",
       "       '80000', '220000', '50000', '2900', '4000', '7600', 'My parents',\n",
       "       '20000', '440', '600', '800', '300000', '70000', '52000', '30000',\n",
       "       '90000', '200000', '50', '350', '300', '2000', '15000',\n",
       "       '40,000 mexica0s pesos', '9000', '35000', '1000', '27000',\n",
       "       '876543', '420', '$ 20 000', '100', '13000000', '8000', '5416',\n",
       "       '1143', '2500', '7500', '3000', '4000 mexican pesos', '10,000 MXN',\n",
       "       '400000', '1800', '40000', '2200', '500000', '16000', '2060',\n",
       "       '45000', '3800', '18000', '380', '4250', '7000', 'parent ssupport',\n",
       "       '$8500 MNX', 'students', '16', '3500', '4300', '8500', '6250',\n",
       "       '250000', '600000', '36000', '9200', '13000', '38000', '75000',\n",
       "       '5000000', '44000', '11000', '1200', '35570', '5000 monthly',\n",
       "       '4500', '60', '699', '52.5', '1000000', '700',\n",
       "       'I depend on my parents', '320', '80,000 pesos', '2300', '2800',\n",
       "       '1500000', '9395', '150000', '2600', '10000000', '20000000',\n",
       "       '140000', '1850', '85', '19000', '7300', '7200', '29', '5555.67',\n",
       "       '1600000', '3600', '102000', '30', '5200', '47', '1300', '4800',\n",
       "       '192000', '1440000', '9000 pesos', '250', '450', 'i dont k0w',\n",
       "       '6500', '980', '3099', '550', '15 000 pesos mexica0s', '24000',\n",
       "       '5900', '65000', '17000', '230', '40', '20,000 pesos', '180000',\n",
       "       '11069', '97,000USD', '9300', '15', '175000', '740', '71200',\n",
       "       '10500', '350000', '2', '23000', '26000', '2550', '700000',\n",
       "       '11800', 'N/a', '2400', '15300', '1', '1780000', '80', '4100',\n",
       "       '3200', 'I am 3', '11 000', '4360 dólares', '12 000', '98000',\n",
       "       '30 000', '2700', '110000', '340', '19999', '3610', '12500',\n",
       "       '9800', '48000', '3', '35', '430000', '102400', '4', '57000',\n",
       "       '93000', '8', '1600', '280', '30,000 pesos', 'parents support',\n",
       "       '3791', '15 000.00', '240000', '87000', '12mil pesos', '3547',\n",
       "       '800000', '1000 mexican pesos', 'US$6,000', '14000', '8000000',\n",
       "       '190000', '43000', '37000', '125000', '352000', '18', '68000',\n",
       "       '82000', '17500', '325000', '900', '30900', '//', '7800',\n",
       "       '4500000', '21000', '3000 mxn', '130', '1400', '264000', '58000',\n",
       "       '85000', '260', '59000', '70, 000', '10400', '36', '1700', '5551',\n",
       "       '5300', '55', '5500', '1200000', '49000', '95000', '46774',\n",
       "       '559.04', '3400', '70 000.00', '450000', '8518000', '67000',\n",
       "       '160000', '5400', '9', '33000', '5', '55000', '3800000', '900000',\n",
       "       '115000', '210000', '4000000', '150', '2100', '6600', '64000',\n",
       "       '145000', '34000', '30500', '265', '20 000', '8000-10000',\n",
       "       '20,000. Mexican pesos', '4000 pesos', '22,000 Mexican pesos',\n",
       "       '$ 4500 Mexican pesos monthly', '2,500 dolares', '3000 MNMX',\n",
       "       '20000 MXN', '24,000 pesos', '8 mil', '$ 10,000 pesos',\n",
       "       '7,000 - 8,000 pesos', '15000-20000', '22000', '$6000 MXN',\n",
       "       '4000 per month', '34 000 MXN', '10000 pesos', '19990', '15800',\n",
       "       '11 000 pesos', 'X', '12000 pesos', \"I don't k0w\",\n",
       "       'parents suports', '...', '1000 pesos mexica0s'], dtype=object)"
      ]
     },
     "execution_count": 158,
     "metadata": {},
     "output_type": "execute_result"
    }
   ],
   "source": [
    "df['@9.MonthlytotalIncomefamilyincomeinlocalcurrencyoptional'].unique()"
   ]
  },
  {
   "cell_type": "code",
   "execution_count": 159,
   "metadata": {},
   "outputs": [
    {
     "data": {
      "text/plain": [
       "1    2745\n",
       "0     286\n",
       "Name: A1.1HaveyouheardaboutCOVID19, dtype: int64"
      ]
     },
     "execution_count": 159,
     "metadata": {},
     "output_type": "execute_result"
    }
   ],
   "source": [
    "df['A1.1HaveyouheardaboutCOVID19'].value_counts()"
   ]
  },
  {
   "cell_type": "code",
   "execution_count": 191,
   "metadata": {},
   "outputs": [],
   "source": [
    "df['Access_Of_Information'] = df['A1.2 Where did you hear about COVID-19 most? (check all that apply ) [Television/Radio]']\\\n",
    "+ df['A1.2 Where did you hear about COVID-19 most? (check all that apply ) [Newspaper/ Magazines]']\\\n",
    "+ df['WheredidyouhearaboutCOVID19mostcheckallthatapplySocialmedia']\\\n",
    "+ df['A1.2 Where did you hear about COVID-19 most? (check all that apply ) [Colleagues/workplace]']\\\n",
    "+ df['A1.2 Where did you hear about COVID-19 most? (check all that apply ) [Neighbors]']"
   ]
  },
  {
   "cell_type": "code",
   "execution_count": 5,
   "metadata": {},
   "outputs": [
    {
     "data": {
      "text/plain": [
       "5.0    1062\n",
       "4.0     698\n",
       "3.0     667\n",
       "2.0     379\n",
       "1.0     156\n",
       "0.0       1\n",
       "Name: Access_Of_Information, dtype: int64"
      ]
     },
     "execution_count": 5,
     "metadata": {},
     "output_type": "execute_result"
    }
   ],
   "source": [
    "df['Access_Of_Information'].value_counts()"
   ]
  },
  {
   "cell_type": "code",
   "execution_count": null,
   "metadata": {},
   "outputs": [],
   "source": []
  },
  {
   "cell_type": "code",
   "execution_count": 162,
   "metadata": {},
   "outputs": [],
   "source": [
    "df.to_csv('Survey.csv',index=False)"
   ]
  },
  {
   "cell_type": "code",
   "execution_count": 193,
   "metadata": {},
   "outputs": [
    {
     "data": {
      "text/plain": [
       "(22.941311163258348, 31.410432844230918)"
      ]
     },
     "execution_count": 193,
     "metadata": {},
     "output_type": "execute_result"
    }
   ],
   "source": [
    "from scipy import stats\n",
    "df = df[df['Country'] == 'Bangladesh']\n",
    "contingency_table = pd.crosstab(df['AgeBin'],df['Access_Of_Information'])\n",
    "stat,p,dof,expected = stats.chi2_contingency(contingency_table)\n",
    "prob = 0.95\n",
    "#     print(country,dof,df_test['Quarantine'].value_counts())\n",
    "critical = stats.chi2.ppf(prob,dof)\n",
    "stat,critical"
   ]
  },
  {
   "cell_type": "code",
   "execution_count": 194,
   "metadata": {},
   "outputs": [
    {
     "data": {
      "text/plain": [
       "<AxesSubplot:xlabel='Access_Of_Information'>"
      ]
     },
     "execution_count": 194,
     "metadata": {},
     "output_type": "execute_result"
    },
    {
     "data": {
      "image/png": "[encoded data removed]",
      "text/plain": [
       "<Figure size 432x288 with 1 Axes>"
      ]
     },
     "metadata": {
      "needs_background": "light"
     },
     "output_type": "display_data"
    }
   ],
   "source": [
    "contingency_table.T.plot.bar(stacked=False)"
   ]
  },
  {
   "cell_type": "code",
   "execution_count": 195,
   "metadata": {},
   "outputs": [
    {
     "data": {
      "text/plain": [
       "<AxesSubplot:xlabel='AgeBin'>"
      ]
     },
     "execution_count": 195,
     "metadata": {},
     "output_type": "execute_result"
    },
    {
     "data": {
      "image/png": "[encoded data removed]",
      "text/plain": [
       "<Figure size 432x288 with 1 Axes>"
      ]
     },
     "metadata": {
      "needs_background": "light"
     },
     "output_type": "display_data"
    }
   ],
   "source": [
    "test = df.groupby(['AgeBin'])['Access_Of_Information'].mean()\n",
    "test.plot.bar()\n"
   ]
  },
  {
   "cell_type": "code",
   "execution_count": 163,
   "metadata": {},
   "outputs": [
    {
     "data": {
      "text/plain": [
       "Index(['Timestamp',\n",
       "       'Pleaseconfirmyourvoluntaryparticipationandgiveyourconsentfordata',\n",
       "       'Profession', 'Country', 'Region', 'Place of residence province',\n",
       "       '@4.HighestLevelofeducation', '@5.Whichsettingdoyouwork', 'sex', 'Age',\n",
       "       '@8.Maritalstatus',\n",
       "       '@9.MonthlytotalIncomefamilyincomeinlocalcurrencyoptional',\n",
       "       'COVIDNewsUpdates', 'A1.1HaveyouheardaboutCOVID19',\n",
       "       'A1.2 Where did you hear about COVID-19 most? (check all that apply ) [Television/Radio]',\n",
       "       'A1.2 Where did you hear about COVID-19 most? (check all that apply ) [Newspaper/ Magazines]',\n",
       "       'WheredidyouhearaboutCOVID19mostcheckallthatapplySocialmedia',\n",
       "       'A1.2 Where did you hear about COVID-19 most? (check all that apply ) [Colleagues/workplace]',\n",
       "       'A1.2 Where did you hear about COVID-19 most? (check all that apply ) [Neighbors]',\n",
       "       'A3.8 Do you or your household members use internet?',\n",
       "       'A3.9 Please indicate which of the following do you use for COVID-19 update (check all that apply)? [Newspaper]',\n",
       "       'A3.9 Please indicate which of the following do you use for COVID-19 update (check all that apply)? [TV (local/ international)]',\n",
       "       'A3.9 Please indicate which of the following do you use for COVID-19 update (check all that apply)? [Social media (Facebook, Instagram, Line, YouTube etc.)]',\n",
       "       'A3.9 Please indicate which of the following do you use for COVID-19 update (check all that apply)? [Internet (WHO websites)]',\n",
       "       'A3.10 How much time, on average, per day do you spend on the topics related to COVID-19 (e.g. via news coverage, work, conversations, thoughts)? Please indicate a daily average..',\n",
       "       'COVIDK0wledgeampAwarenesPublicOpinion',\n",
       "       'B1.3 How would you rate the extend of your k0wledge of COVID-19?',\n",
       "       'B1.4 How does COVID19 Spread/Transmitted (check all that apply) [Contact with respiratory droplets]',\n",
       "       'B1.4 How does COVID19 Spread/Transmitted (check all that apply) [Touching and shaking hands with an infected person]',\n",
       "       'B1.4 How does COVID19 Spread/Transmitted (check all that apply) [The use of objects used by an infected person]',\n",
       "       'B1.4 How does COVID19 Spread/Transmitted (check all that apply) [Sexual route]',\n",
       "       'B1.4 How does COVID19 Spread/Transmitted (check all that apply) [Person-to-person]',\n",
       "       'B1.4 How does COVID19 Spread/Transmitted (check all that apply) [Close contact]',\n",
       "       'B1.4 How does COVID19 Spread/Transmitted (check all that apply) [Touching currency/Coin]',\n",
       "       'B1.4 How does COVID19 Spread/Transmitted (check all that apply) [COVID-19 can float on air almost 30 minutes]',\n",
       "       'B1.5 In your opinion, what are the signs and symptoms of COVID-19 (check all that apply) [Fever]',\n",
       "       'B1.5 In your opinion, what are the signs and symptoms of COVID-19 (check all that apply) [Tiredness]',\n",
       "       'B1.5 In your opinion, what are the signs and symptoms of COVID-19 (check all that apply) [Dry cough]',\n",
       "       'B1.5 In your opinion, what are the signs and symptoms of COVID-19 (check all that apply) [Shortness of breath/Breathing difficulties]',\n",
       "       'B1.5 In your opinion, what are the signs and symptoms of COVID-19 (check all that apply) [aches and pains]',\n",
       "       'B1.5 In your opinion, what are the signs and symptoms of COVID-19 (check all that apply) [nasal congestion]',\n",
       "       'B1.5 In your opinion, what are the signs and symptoms of COVID-19 (check all that apply) [runny 0se]',\n",
       "       'B1.5 In your opinion, what are the signs and symptoms of COVID-19 (check all that apply) [sore throat]',\n",
       "       'B1.5 In your opinion, what are the signs and symptoms of COVID-19 (check all that apply) [Diarrhea]',\n",
       "       'N90 mask(s) do you think is best to control the spread of the COVID-19? (If yes then 1 else 0)',\n",
       "       'C1.10 Is anyone in your immediate environment at risk of infection with COVID-19 (e.g. parents, siblings, close friends/colleagues) due to the following? (please select all relevant responses) [age (over 60 years)]',\n",
       "       'C1.10 Is anyone in your immediate environment at risk of infection with COVID-19 (e.g. parents, siblings, close friends/colleagues) due to the following? (please select all relevant responses) [severe pre-existing conditions (e.g. Respiratory diseases, heart diseases, cancer, immune deficiency problem)]',\n",
       "       'C1.10 Is anyone in your immediate environment at risk of infection with COVID-19 (e.g. parents, siblings, close friends/colleagues) due to the following? (please select all relevant responses) [work environment (e.g. Working in the health care environment and involving in contact with patients)]',\n",
       "       'C1.10 Is anyone in your immediate environment at risk of infection with COVID-19 (e.g. parents, siblings, close friends/colleagues) due to the following? (please select all relevant responses) [exposure to a risk zone/areas/countries (e.g. China, Italy etc.)]',\n",
       "       'Knowledge scoring {22/22}',\n",
       "       'B1.6 Which mask(s) do you think is best to control the spread of the COVID-19?',\n",
       "       'B1.7 How long is the incubation period for COVID-19?',\n",
       "       'B1.8 Are there any vaccines, drugs or treatments for COVID-19?',\n",
       "       'B2.1 Do you think the government should lock-down/restrict travel areas to avoid spread of COVID-19?',\n",
       "       'B2.2 Do you think home quarantine can reduce COVID-19 outbreaks?',\n",
       "       'B2.3 Isolation and treatment of infected people are effective ways to reduce the spread of the virus?',\n",
       "       'B2.4 Do you think personal hygiene is important in controlling the spread of COVID-19?',\n",
       "       'B2.5 Media should take a leading role in raising awareness coronavirus risk reduction and prevention issues ?',\n",
       "       'Opinion-scoring {25/25}', 'COVID Circumstances /Stiuation',\n",
       "       'C1.9 Please check for which you familiar with? (check all that apply) [lock-down]',\n",
       "       'C1.9 Please check for which you familiar with? (check all that apply) [self-isolation]',\n",
       "       'C1.9 Please check for which you familiar with? (check all that apply) [home quarantine]',\n",
       "       'C2.6 Do you think you are at increased personal risk of infection with COVID-19 due to any of the following?(please select all relevant responses) [age (over 60 years)]',\n",
       "       'C2.6 Do you think you are at increased personal risk of infection with COVID-19 due to any of the following?(please select all relevant responses) [severe pre-existing conditions (e.g. Respiratory diseases, heart diseases, cancer, immune deficiency problem)]',\n",
       "       'C2.6 Do you think you are at increased personal risk of infection with COVID-19 due to any of the following?(please select all relevant responses) [work environment (e.g. Working in the health care environment and involving in contact with patients)]',\n",
       "       'C2.6 Do you think you are at increased personal risk of infection with COVID-19 due to any of the following?(please select all relevant responses) [exposure to a risk zone/areas/countries (e.g. China, Italy etc.)]',\n",
       "       'Susceptibility-scoring {4/4}', 'COVID Practices',\n",
       "       'D3.1 Do you have any of the following practices to prevent COVID-19 transmission (check all that apply)? [Practicing self-isolation/Home quarantine]',\n",
       "       'D3.1 Do you have any of the following practices to prevent COVID-19 transmission (check all that apply)? [Practicing respiratory hygiene]',\n",
       "       'D3.1 Do you have any of the following practices to prevent COVID-19 transmission (check all that apply)? [washing hand frequently using hand sanitizer (alcohol based)]',\n",
       "       'D3.1 Do you have any of the following practices to prevent COVID-19 transmission (check all that apply)? [Using face mask (Surgical)]',\n",
       "       'D3.1 Do you have any of the following practices to prevent COVID-19 transmission (check all that apply)? [Avoiding touching 0se, mouth and e1]',\n",
       "       'D3.1 Do you have any of the following practices to prevent COVID-19 transmission (check all that apply)? [Maintaining social distance (min 1 meter)]',\n",
       "       'D3.4 Do you have any of the following practices 1w a days? [any handshake?] Neg',\n",
       "       'D3.4 Do you have any of the following practices 1w a days? [Hug?]Neg',\n",
       "       'D3.4 Do you have any of the following practices 1w a days? [Visiting public places?]Neg',\n",
       "       'D3.4 Do you have any of the following practices 1w a days? [contact with infected person?]Neg',\n",
       "       'D3.4 Do you have any of the following practices 1w a days? [You/your family members going church/ mosque/ temple/synagogue/ pagoda for prayer]Neg',\n",
       "       'Behaviour-scoring {11/11}',\n",
       "       'D3.5 how many times did you wash hand in last 12 hours or 12 hours?',\n",
       "       'D3.2 Have you been provided with personal protection equipment (PPE) in your workplace?',\n",
       "       'D3.3 Have you tested yourself for COVID-19?',\n",
       "       'COVID Psychological Aspects',\n",
       "       'E4.1 What are your mental health/psychological problems regarding COVID-19? (check all that apply) [Fear of falling ill and dying]',\n",
       "       'E4.1 What are your mental health/psychological problems regarding COVID-19? (check all that apply) [Anxiety]',\n",
       "       'E4.1 What are your mental health/psychological problems regarding COVID-19? (check all that apply) [Depression]',\n",
       "       'E4.1 What are your mental health/psychological problems regarding COVID-19? (check all that apply) [Fear of being socially excluded/placed in quarantine]',\n",
       "       'E4.1 What are your mental health/psychological problems regarding COVID-19? (check all that apply) [Feelings of helplessness, boredom, loneliness]',\n",
       "       'Psychological-health Soring{5/5}', 'AgeBin', 'Access_Of_Information'],\n",
       "      dtype='object')"
      ]
     },
     "execution_count": 163,
     "metadata": {},
     "output_type": "execute_result"
    }
   ],
   "source": [
    "df.columns"
   ]
  },
  {
   "cell_type": "code",
   "execution_count": 6,
   "metadata": {},
   "outputs": [],
   "source": [
    "cleaned = pd.DataFrame()\n",
    "cleaned['Profession'] = df['Profession']\n",
    "cleaned['Country'] = df['Country']\n",
    "cleaned['Region'] = df['Region']\n",
    "cleaned['Education'] = df['@4.HighestLevelofeducation']\n",
    "cleaned['Sex'] = df['sex']\n",
    "cleaned['Age'] = df['Age']\n",
    "cleaned['AgeBin'] = df['AgeBin']\n",
    "cleaned['1.1HeardCovid'] = df['A1.1HaveyouheardaboutCOVID19']\n",
    "cleaned['1.2_Television/Radio'] = df['A1.2 Where did you hear about COVID-19 most? (check all that apply ) [Television/Radio]']\n",
    "cleaned['1.2_Newspaper/Magazines'] = df['A1.2 Where did you hear about COVID-19 most? (check all that apply ) [Newspaper/ Magazines]']\n",
    "cleaned['1.2_SocialMedia'] = df['WheredidyouhearaboutCOVID19mostcheckallthatapplySocialmedia']\n",
    "cleaned['1.2_Colleagues/Workplace'] = df['A1.2 Where did you hear about COVID-19 most? (check all that apply ) [Colleagues/workplace]']\n",
    "cleaned['1.2_Neighbors'] = df['A1.2 Where did you hear about COVID-19 most? (check all that apply ) [Neighbors]']\n",
    "cleaned['Access_Of_Information'] = cleaned['1.1HeardCovid'] + cleaned['1.2_Television/Radio'] \\\n",
    "                                + cleaned['1.2_Newspaper/Magazines'] + cleaned['1.2_SocialMedia'] +\\\n",
    "                                cleaned['1.2_Colleagues/Workplace'] + cleaned['1.2_Neighbors'] \n"
   ]
  },
  {
   "cell_type": "code",
   "execution_count": null,
   "metadata": {},
   "outputs": [],
   "source": []
  }
 ],
 "metadata": {
  "kernelspec": {
   "display_name": "Python 3",
   "language": "python",
   "name": "python3"
  },
  "language_info": {
   "codemirror_mode": {
    "name": "ipython",
    "version": 3
   },
   "file_extension": ".py",
   "mimetype": "text/x-python",
   "name": "python",
   "nbconvert_exporter": "python",
   "pygments_lexer": "ipython3",
   "version": "3.8.5"
  }
 },
 "nbformat": 4,
 "nbformat_minor": 4
}
